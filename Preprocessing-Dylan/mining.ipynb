{
  "cells": [
    {
      "cell_type": "markdown",
      "id": "71101511",
      "metadata": {
        "id": "71101511"
      },
      "source": [
        "<strong>\n",
        "    <font color=\"#0E1117\">\n",
        "        Author: lprtk\n",
        "    </font>\n",
        "</strong>\n",
        "\n",
        "<br/>\n",
        "<br/>\n",
        "\n",
        "\n",
        "<Center>\n",
        "    <h1 style=\"font-family: Arial\">\n",
        "        <font color=\"#0E1117\">\n",
        "            NLP: sentiment analysis, topic modeling & sentiment prediction\n",
        "        </font>\n",
        "    </h1>\n",
        "    <h3 style=\"font-family: Arial\">\n",
        "        <font color=\"#0E1117\">\n",
        "            Notebook 2/5\n",
        "        </font>\n",
        "    </h3>\n",
        "</Center>"
      ]
    },
    {
      "cell_type": "markdown",
      "id": "d9a9600c",
      "metadata": {
        "id": "d9a9600c"
      },
      "source": [
        "-------------------------------------------------------------------------------------------------------------------------------"
      ]
    },
    {
      "cell_type": "markdown",
      "id": "c3c2beae",
      "metadata": {
        "id": "c3c2beae"
      },
      "source": [
        "<div style=\"margin: 10px;\">\n",
        "    <h2 style=\"font-family: Arial\">\n",
        "        <font color=\"#0E1117\">\n",
        "            Introduction & context\n",
        "        </font>\n",
        "    </h2>\n",
        "</div>"
      ]
    },
    {
      "cell_type": "markdown",
      "id": "d6c7dfb4",
      "metadata": {
        "id": "d6c7dfb4"
      },
      "source": [
        "<p style=\"text-align: justify\">\n",
        "    This project focuses on extracting information and value from large volumes of textual data using Natural Language Processing (NLP). Why do you want to do this?\n",
        "</p>\n",
        "<ul>\n",
        "    <li><p style=\"text-align: justify\">To improve the customer experience on the website, mobile application or in the office.</p></li>\n",
        "    <li><p style=\"text-align: justify\">Assess customer satisfaction differently.</p></li>\n",
        "    <li><p style=\"text-align: justify\"></p>Evaluate the company's image.</li>\n",
        "    <li><p style=\"text-align: justify\"></p>Be more available and accessible to customers.</li>\n",
        "    <li><p style=\"text-align: justify\"></p>According to the company's activity: find new solutions to improve the banking services offered, evaluate the seller of an online sales platform or improve the product based on customer reviews.</li>\n",
        "</ul>\n",
        "\n",
        "<p style=\"text-align: justify\">\n",
        "    Our application approach is presented in 5 main streams:\n",
        "</p>\n",
        "<ul>\n",
        "    <li>\n",
        "        <u>Step 1:</u> Web Scraping\n",
        "        <ul>\n",
        "            <li>Collect and create the data schema.</li>\n",
        "            <li>Parsing customer reviews to enrich the database: extracting title, description, date, time, nickname and rating.</li>\n",
        "        </ul>\n",
        "    </li>\n",
        "</ul>\n",
        "<ul>\n",
        "    <li>\n",
        "        <u>Step 2:</u> Sentiment Analysis and Scoring\n",
        "        <ul>\n",
        "            <li>Understand and probe the satisfaction of each customer.</li>\n",
        "            <li>Scoring the intensity and polarity of feelings from the review description.</li>\n",
        "        </ul>\n",
        "    </li>\n",
        "</ul>\n",
        "<ul>\n",
        "    <li>\n",
        "        <u>Step 3:</u> Text mining and data cleaning\n",
        "        <ul>\n",
        "            <li>Text cleaning adapted to the sales domain and to the general content of reviews.</li>\n",
        "        </ul>\n",
        "    </li>\n",
        "</ul>\n",
        "<ul>\n",
        "    <li>\n",
        "        <u>Step 4:</u> Topic Modeling (unsupervised learning)\n",
        "        <ul>\n",
        "            <li>To improve availability and speed up response time, reviews can be disassociated and prioritized according to the topic they address.</li>\n",
        "        </ul>\n",
        "    </li>\n",
        "</ul>\n",
        "<ul>\n",
        "    <li>\n",
        "        <u>Step 5:</u> Machine Learning (supervised learning)\n",
        "        <ul>\n",
        "            <li>Without reading future reviews, design a robust model to identify the overall sentiment expressed by the customer.</li>\n",
        "        </ul>\n",
        "    </li>\n",
        "</ul>"
      ]
    },
    {
      "cell_type": "code",
      "source": [
        "!git clone https://github.com/lprtk/pyTCTK\n",
        "!pip install git+https://github.com/cjhutto/vaderSentiment"
      ],
      "metadata": {
        "colab": {
          "base_uri": "https://localhost:8080/"
        },
        "id": "6lrfTlRt-SQj",
        "outputId": "c5e05c79-db14-4e16-fc16-864d79078286"
      },
      "id": "6lrfTlRt-SQj",
      "execution_count": null,
      "outputs": [
        {
          "output_type": "stream",
          "name": "stdout",
          "text": [
            "fatal: destination path 'pyTCTK' already exists and is not an empty directory.\n",
            "Looking in indexes: https://pypi.org/simple, https://us-python.pkg.dev/colab-wheels/public/simple/\n",
            "Collecting git+https://github.com/cjhutto/vaderSentiment\n",
            "  Cloning https://github.com/cjhutto/vaderSentiment to /tmp/pip-req-build-m8oqr1b0\n",
            "  Running command git clone -q https://github.com/cjhutto/vaderSentiment /tmp/pip-req-build-m8oqr1b0\n",
            "Requirement already satisfied: requests in /usr/local/lib/python3.7/dist-packages (from vaderSentiment==3.3.1) (2.23.0)\n",
            "Requirement already satisfied: certifi>=2017.4.17 in /usr/local/lib/python3.7/dist-packages (from requests->vaderSentiment==3.3.1) (2022.9.24)\n",
            "Requirement already satisfied: chardet<4,>=3.0.2 in /usr/local/lib/python3.7/dist-packages (from requests->vaderSentiment==3.3.1) (3.0.4)\n",
            "Requirement already satisfied: idna<3,>=2.5 in /usr/local/lib/python3.7/dist-packages (from requests->vaderSentiment==3.3.1) (2.10)\n",
            "Requirement already satisfied: urllib3!=1.25.0,!=1.25.1,<1.26,>=1.21.1 in /usr/local/lib/python3.7/dist-packages (from requests->vaderSentiment==3.3.1) (1.24.3)\n"
          ]
        }
      ]
    },
    {
      "cell_type": "code",
      "source": [
        "import sys"
      ],
      "metadata": {
        "id": "KG2Q1ij3-7gX"
      },
      "id": "KG2Q1ij3-7gX",
      "execution_count": null,
      "outputs": []
    },
    {
      "cell_type": "markdown",
      "source": [
        "# New Section"
      ],
      "metadata": {
        "id": "ykPPCRua-fLN"
      },
      "id": "ykPPCRua-fLN"
    },
    {
      "cell_type": "markdown",
      "id": "6ab28042",
      "metadata": {
        "id": "6ab28042"
      },
      "source": [
        "-------------------------------------------------------------------------------------------------------------------------------"
      ]
    },
    {
      "cell_type": "markdown",
      "id": "02b1bd2d",
      "metadata": {
        "id": "02b1bd2d"
      },
      "source": [
        "<div style=\"margin: 10px;\">\n",
        "    <h2 style=\"font-family: Arial\">\n",
        "        <font color=\"#0E1117\">\n",
        "            Librairies import\n",
        "        </font>\n",
        "    </h2>\n",
        "</div>"
      ]
    },
    {
      "cell_type": "code",
      "execution_count": null,
      "id": "d33f599c",
      "metadata": {
        "id": "d33f599c"
      },
      "outputs": [],
      "source": [
        "import pandas as pd\n",
        "from pyTCTK.codefile.pyTCTK import TextNet, WordNet\n",
        "from vaderSentiment.vaderSentiment.vaderSentiment import SentimentIntensityAnalyzer\n",
        "import warnings\n",
        "warnings.filterwarnings(\"ignore\")"
      ]
    },
    {
      "cell_type": "markdown",
      "id": "41f3b9c1",
      "metadata": {
        "id": "41f3b9c1"
      },
      "source": [
        "-------------------------------------------------------------------------------------------------------------------------------"
      ]
    },
    {
      "cell_type": "markdown",
      "id": "c3e70600",
      "metadata": {
        "id": "c3e70600"
      },
      "source": [
        "<div style=\"margin: 10px;\">\n",
        "    <h2 style=\"font-family: Arial\">\n",
        "        <font color=\"#0E1117\">\n",
        "            Data import\n",
        "        </font>\n",
        "    </h2>\n",
        "</div>"
      ]
    },
    {
      "cell_type": "code",
      "execution_count": null,
      "id": "e6a191ca",
      "metadata": {
        "id": "e6a191ca"
      },
      "outputs": [],
      "source": [
        "df_data = pd.read_csv(filepath_or_buffer=\"amzn_customer_reviews.csv\", sep=\",\")"
      ]
    },
    {
      "cell_type": "code",
      "execution_count": null,
      "id": "71b47864",
      "metadata": {
        "id": "71b47864",
        "outputId": "2ab5b68e-b307-47a9-fd1b-48c9d0a7785f",
        "colab": {
          "base_uri": "https://localhost:8080/",
          "height": 143
        }
      },
      "outputs": [
        {
          "output_type": "execute_result",
          "data": {
            "text/plain": [
              "    Pseudo                                  Title  \\\n",
              "0    R.A.O  \\nA Small, But Very Powerful Device\\n   \n",
              "1  Bee Lor   \\nExcellent portable gaming laptop\\n   \n",
              "2    R.A.O                         \\nFour Stars\\n   \n",
              "\n",
              "                                              Review              Rating  \\\n",
              "0  \\nReview is based of having the computer as a ...  4.5 out of 5 stars   \n",
              "1  \\nI'm writing this review for anyone who's on ...  5.0 out of 5 stars   \n",
              "2  \\nTruly a nice product, but overpriced in gene...  3.0 out of 5 stars   \n",
              "\n",
              "   Verified Purchase                                               Date  \n",
              "0               True  Reviewed in the United States 🇺🇸 on November 2...  \n",
              "1               True  Reviewed in the United States 🇺🇸 on January 6,...  \n",
              "2               True  Reviewed in the United States 🇺🇸 on November 2...  "
            ],
            "text/html": [
              "\n",
              "  <div id=\"df-f2199318-b2af-4f3d-9ab3-da4d70c695ec\">\n",
              "    <div class=\"colab-df-container\">\n",
              "      <div>\n",
              "<style scoped>\n",
              "    .dataframe tbody tr th:only-of-type {\n",
              "        vertical-align: middle;\n",
              "    }\n",
              "\n",
              "    .dataframe tbody tr th {\n",
              "        vertical-align: top;\n",
              "    }\n",
              "\n",
              "    .dataframe thead th {\n",
              "        text-align: right;\n",
              "    }\n",
              "</style>\n",
              "<table border=\"1\" class=\"dataframe\">\n",
              "  <thead>\n",
              "    <tr style=\"text-align: right;\">\n",
              "      <th></th>\n",
              "      <th>Pseudo</th>\n",
              "      <th>Title</th>\n",
              "      <th>Review</th>\n",
              "      <th>Rating</th>\n",
              "      <th>Verified Purchase</th>\n",
              "      <th>Date</th>\n",
              "    </tr>\n",
              "  </thead>\n",
              "  <tbody>\n",
              "    <tr>\n",
              "      <th>0</th>\n",
              "      <td>R.A.O</td>\n",
              "      <td>\\nA Small, But Very Powerful Device\\n</td>\n",
              "      <td>\\nReview is based of having the computer as a ...</td>\n",
              "      <td>4.5 out of 5 stars</td>\n",
              "      <td>True</td>\n",
              "      <td>Reviewed in the United States 🇺🇸 on November 2...</td>\n",
              "    </tr>\n",
              "    <tr>\n",
              "      <th>1</th>\n",
              "      <td>Bee Lor</td>\n",
              "      <td>\\nExcellent portable gaming laptop\\n</td>\n",
              "      <td>\\nI'm writing this review for anyone who's on ...</td>\n",
              "      <td>5.0 out of 5 stars</td>\n",
              "      <td>True</td>\n",
              "      <td>Reviewed in the United States 🇺🇸 on January 6,...</td>\n",
              "    </tr>\n",
              "    <tr>\n",
              "      <th>2</th>\n",
              "      <td>R.A.O</td>\n",
              "      <td>\\nFour Stars\\n</td>\n",
              "      <td>\\nTruly a nice product, but overpriced in gene...</td>\n",
              "      <td>3.0 out of 5 stars</td>\n",
              "      <td>True</td>\n",
              "      <td>Reviewed in the United States 🇺🇸 on November 2...</td>\n",
              "    </tr>\n",
              "  </tbody>\n",
              "</table>\n",
              "</div>\n",
              "      <button class=\"colab-df-convert\" onclick=\"convertToInteractive('df-f2199318-b2af-4f3d-9ab3-da4d70c695ec')\"\n",
              "              title=\"Convert this dataframe to an interactive table.\"\n",
              "              style=\"display:none;\">\n",
              "        \n",
              "  <svg xmlns=\"http://www.w3.org/2000/svg\" height=\"24px\"viewBox=\"0 0 24 24\"\n",
              "       width=\"24px\">\n",
              "    <path d=\"M0 0h24v24H0V0z\" fill=\"none\"/>\n",
              "    <path d=\"M18.56 5.44l.94 2.06.94-2.06 2.06-.94-2.06-.94-.94-2.06-.94 2.06-2.06.94zm-11 1L8.5 8.5l.94-2.06 2.06-.94-2.06-.94L8.5 2.5l-.94 2.06-2.06.94zm10 10l.94 2.06.94-2.06 2.06-.94-2.06-.94-.94-2.06-.94 2.06-2.06.94z\"/><path d=\"M17.41 7.96l-1.37-1.37c-.4-.4-.92-.59-1.43-.59-.52 0-1.04.2-1.43.59L10.3 9.45l-7.72 7.72c-.78.78-.78 2.05 0 2.83L4 21.41c.39.39.9.59 1.41.59.51 0 1.02-.2 1.41-.59l7.78-7.78 2.81-2.81c.8-.78.8-2.07 0-2.86zM5.41 20L4 18.59l7.72-7.72 1.47 1.35L5.41 20z\"/>\n",
              "  </svg>\n",
              "      </button>\n",
              "      \n",
              "  <style>\n",
              "    .colab-df-container {\n",
              "      display:flex;\n",
              "      flex-wrap:wrap;\n",
              "      gap: 12px;\n",
              "    }\n",
              "\n",
              "    .colab-df-convert {\n",
              "      background-color: #E8F0FE;\n",
              "      border: none;\n",
              "      border-radius: 50%;\n",
              "      cursor: pointer;\n",
              "      display: none;\n",
              "      fill: #1967D2;\n",
              "      height: 32px;\n",
              "      padding: 0 0 0 0;\n",
              "      width: 32px;\n",
              "    }\n",
              "\n",
              "    .colab-df-convert:hover {\n",
              "      background-color: #E2EBFA;\n",
              "      box-shadow: 0px 1px 2px rgba(60, 64, 67, 0.3), 0px 1px 3px 1px rgba(60, 64, 67, 0.15);\n",
              "      fill: #174EA6;\n",
              "    }\n",
              "\n",
              "    [theme=dark] .colab-df-convert {\n",
              "      background-color: #3B4455;\n",
              "      fill: #D2E3FC;\n",
              "    }\n",
              "\n",
              "    [theme=dark] .colab-df-convert:hover {\n",
              "      background-color: #434B5C;\n",
              "      box-shadow: 0px 1px 3px 1px rgba(0, 0, 0, 0.15);\n",
              "      filter: drop-shadow(0px 1px 2px rgba(0, 0, 0, 0.3));\n",
              "      fill: #FFFFFF;\n",
              "    }\n",
              "  </style>\n",
              "\n",
              "      <script>\n",
              "        const buttonEl =\n",
              "          document.querySelector('#df-f2199318-b2af-4f3d-9ab3-da4d70c695ec button.colab-df-convert');\n",
              "        buttonEl.style.display =\n",
              "          google.colab.kernel.accessAllowed ? 'block' : 'none';\n",
              "\n",
              "        async function convertToInteractive(key) {\n",
              "          const element = document.querySelector('#df-f2199318-b2af-4f3d-9ab3-da4d70c695ec');\n",
              "          const dataTable =\n",
              "            await google.colab.kernel.invokeFunction('convertToInteractive',\n",
              "                                                     [key], {});\n",
              "          if (!dataTable) return;\n",
              "\n",
              "          const docLinkHtml = 'Like what you see? Visit the ' +\n",
              "            '<a target=\"_blank\" href=https://colab.research.google.com/notebooks/data_table.ipynb>data table notebook</a>'\n",
              "            + ' to learn more about interactive tables.';\n",
              "          element.innerHTML = '';\n",
              "          dataTable['output_type'] = 'display_data';\n",
              "          await google.colab.output.renderOutput(dataTable, element);\n",
              "          const docLink = document.createElement('div');\n",
              "          docLink.innerHTML = docLinkHtml;\n",
              "          element.appendChild(docLink);\n",
              "        }\n",
              "      </script>\n",
              "    </div>\n",
              "  </div>\n",
              "  "
            ]
          },
          "metadata": {},
          "execution_count": 28
        }
      ],
      "source": [
        "df_data.head(3)"
      ]
    },
    {
      "cell_type": "markdown",
      "id": "4ffe625a",
      "metadata": {
        "id": "4ffe625a"
      },
      "source": [
        "-------------------------------------------------------------------------------------------------------------------------------"
      ]
    },
    {
      "cell_type": "markdown",
      "id": "bcfade9a",
      "metadata": {
        "id": "bcfade9a"
      },
      "source": [
        "<div style=\"margin: 10px;\">\n",
        "    <h2 style=\"font-family: Arial\">\n",
        "        <font color=\"#0E1117\">\n",
        "            Text cleaning: first part\n",
        "        </font>\n",
        "    </h2>\n",
        "</div>"
      ]
    },
    {
      "cell_type": "markdown",
      "id": "ddad18fa",
      "metadata": {
        "id": "ddad18fa"
      },
      "source": [
        "> « It’s all about the Data. Key to any successful algorithm is a good dataset » (source : National Aeronautics and Space Administration, You Can Help Train NASA’s Rovers to Better Explore Mars | NASA.com).\n",
        "\n",
        "<p style=\"text-align: justify\">\n",
        "    Before moving on to the modeling stage, there is a whole pre-processing to be done: make sure that there are no missing values, no absurd values (outliers), no duplicates, no uninterpretable characteristics, no correlation between certain variables, make sure to re-encode certain characteristics, perform format conversions, create new variables or delete old characteristics. This cleaning is the first step, crucial to start the project well, and has a direct influence on the performance and predictions of the future modeling. More and more, the notion of data quality is evoked because poor quality, unprepared or uninterpretable variables will only amplify the black box effect of certain models.\n",
        "</p>"
      ]
    },
    {
      "cell_type": "markdown",
      "id": "e1cca5be",
      "metadata": {
        "id": "e1cca5be"
      },
      "source": [
        "<div style=\"margin: 10px;\">\n",
        "    <h3 style=\"font-family: Arial\">\n",
        "        <font color=\"#0E1117\">\n",
        "            1) Filter reviews, remove spaces and clean some specific characters\n",
        "        </font>\n",
        "    </h3>\n",
        "</div>"
      ]
    },
    {
      "cell_type": "markdown",
      "id": "88d79191",
      "metadata": {
        "id": "88d79191"
      },
      "source": [
        "<p style=\"text-align: justify\">\n",
        "    We make a first very light cleaning (deletion of spaces and html tags) before applying the sentimental analysis because the VADER algorithm takes into account the capital letters, the negations or the punctuation to realize the sentimental scoring.\n",
        "</p>"
      ]
    },
    {
      "cell_type": "code",
      "execution_count": null,
      "id": "716e30e2",
      "metadata": {
        "id": "716e30e2"
      },
      "outputs": [],
      "source": [
        "df_data = TextNet(\n",
        "    data=df_data,\n",
        "    column=\"Review\"\n",
        ").remove_space()\n",
        "\n",
        "df_data = TextNet(\n",
        "    data=df_data,\n",
        "    column=\"Title\"\n",
        ").remove_space()"
      ]
    },
    {
      "cell_type": "code",
      "execution_count": null,
      "id": "f8b049e5",
      "metadata": {
        "id": "f8b049e5"
      },
      "outputs": [],
      "source": [
        "df_data = TextNet(\n",
        "    data=df_data,\n",
        "    column=\"Review\"\n",
        ").remove_whitespace()\n",
        "\n",
        "df_data = TextNet(\n",
        "    data=df_data,\n",
        "    column=\"Title\"\n",
        ").remove_whitespace()"
      ]
    },
    {
      "cell_type": "code",
      "execution_count": null,
      "id": "ea6a03b5",
      "metadata": {
        "id": "ea6a03b5"
      },
      "outputs": [],
      "source": [
        "df_data = TextNet(\n",
        "    data=df_data,\n",
        "    column=\"Review\"\n",
        ").additional_cleaning(\n",
        "    add_regexs=None\n",
        ")\n",
        "\n",
        "df_data = TextNet(\n",
        "    data=df_data,\n",
        "    column=\"Title\"\n",
        ").additional_cleaning(\n",
        "    add_regexs=None\n",
        ")"
      ]
    },
    {
      "cell_type": "code",
      "execution_count": null,
      "id": "f143170d",
      "metadata": {
        "id": "f143170d",
        "outputId": "6367a1c2-986d-4372-c987-4f23617f62cc",
        "colab": {
          "base_uri": "https://localhost:8080/",
          "height": 143
        }
      },
      "outputs": [
        {
          "output_type": "execute_result",
          "data": {
            "text/plain": [
              "    Pseudo                              Title  \\\n",
              "0    R.A.O  A Small, But Very Powerful Device   \n",
              "1  Bee Lor   Excellent portable gaming laptop   \n",
              "2    R.A.O                         Four Stars   \n",
              "\n",
              "                                              Review              Rating  \\\n",
              "0  Review is based of having the computer as a da...  4.5 out of 5 stars   \n",
              "1  I'm writing this review for anyone who's on th...  5.0 out of 5 stars   \n",
              "2  Truly a nice product, but overpriced in genera...  3.0 out of 5 stars   \n",
              "\n",
              "   Verified Purchase                                               Date  \n",
              "0               True  Reviewed in the United States 🇺🇸 on November 2...  \n",
              "1               True  Reviewed in the United States 🇺🇸 on January 6,...  \n",
              "2               True  Reviewed in the United States 🇺🇸 on November 2...  "
            ],
            "text/html": [
              "\n",
              "  <div id=\"df-d38c6032-e391-40c1-a6fc-65103b9f3d01\">\n",
              "    <div class=\"colab-df-container\">\n",
              "      <div>\n",
              "<style scoped>\n",
              "    .dataframe tbody tr th:only-of-type {\n",
              "        vertical-align: middle;\n",
              "    }\n",
              "\n",
              "    .dataframe tbody tr th {\n",
              "        vertical-align: top;\n",
              "    }\n",
              "\n",
              "    .dataframe thead th {\n",
              "        text-align: right;\n",
              "    }\n",
              "</style>\n",
              "<table border=\"1\" class=\"dataframe\">\n",
              "  <thead>\n",
              "    <tr style=\"text-align: right;\">\n",
              "      <th></th>\n",
              "      <th>Pseudo</th>\n",
              "      <th>Title</th>\n",
              "      <th>Review</th>\n",
              "      <th>Rating</th>\n",
              "      <th>Verified Purchase</th>\n",
              "      <th>Date</th>\n",
              "    </tr>\n",
              "  </thead>\n",
              "  <tbody>\n",
              "    <tr>\n",
              "      <th>0</th>\n",
              "      <td>R.A.O</td>\n",
              "      <td>A Small, But Very Powerful Device</td>\n",
              "      <td>Review is based of having the computer as a da...</td>\n",
              "      <td>4.5 out of 5 stars</td>\n",
              "      <td>True</td>\n",
              "      <td>Reviewed in the United States 🇺🇸 on November 2...</td>\n",
              "    </tr>\n",
              "    <tr>\n",
              "      <th>1</th>\n",
              "      <td>Bee Lor</td>\n",
              "      <td>Excellent portable gaming laptop</td>\n",
              "      <td>I'm writing this review for anyone who's on th...</td>\n",
              "      <td>5.0 out of 5 stars</td>\n",
              "      <td>True</td>\n",
              "      <td>Reviewed in the United States 🇺🇸 on January 6,...</td>\n",
              "    </tr>\n",
              "    <tr>\n",
              "      <th>2</th>\n",
              "      <td>R.A.O</td>\n",
              "      <td>Four Stars</td>\n",
              "      <td>Truly a nice product, but overpriced in genera...</td>\n",
              "      <td>3.0 out of 5 stars</td>\n",
              "      <td>True</td>\n",
              "      <td>Reviewed in the United States 🇺🇸 on November 2...</td>\n",
              "    </tr>\n",
              "  </tbody>\n",
              "</table>\n",
              "</div>\n",
              "      <button class=\"colab-df-convert\" onclick=\"convertToInteractive('df-d38c6032-e391-40c1-a6fc-65103b9f3d01')\"\n",
              "              title=\"Convert this dataframe to an interactive table.\"\n",
              "              style=\"display:none;\">\n",
              "        \n",
              "  <svg xmlns=\"http://www.w3.org/2000/svg\" height=\"24px\"viewBox=\"0 0 24 24\"\n",
              "       width=\"24px\">\n",
              "    <path d=\"M0 0h24v24H0V0z\" fill=\"none\"/>\n",
              "    <path d=\"M18.56 5.44l.94 2.06.94-2.06 2.06-.94-2.06-.94-.94-2.06-.94 2.06-2.06.94zm-11 1L8.5 8.5l.94-2.06 2.06-.94-2.06-.94L8.5 2.5l-.94 2.06-2.06.94zm10 10l.94 2.06.94-2.06 2.06-.94-2.06-.94-.94-2.06-.94 2.06-2.06.94z\"/><path d=\"M17.41 7.96l-1.37-1.37c-.4-.4-.92-.59-1.43-.59-.52 0-1.04.2-1.43.59L10.3 9.45l-7.72 7.72c-.78.78-.78 2.05 0 2.83L4 21.41c.39.39.9.59 1.41.59.51 0 1.02-.2 1.41-.59l7.78-7.78 2.81-2.81c.8-.78.8-2.07 0-2.86zM5.41 20L4 18.59l7.72-7.72 1.47 1.35L5.41 20z\"/>\n",
              "  </svg>\n",
              "      </button>\n",
              "      \n",
              "  <style>\n",
              "    .colab-df-container {\n",
              "      display:flex;\n",
              "      flex-wrap:wrap;\n",
              "      gap: 12px;\n",
              "    }\n",
              "\n",
              "    .colab-df-convert {\n",
              "      background-color: #E8F0FE;\n",
              "      border: none;\n",
              "      border-radius: 50%;\n",
              "      cursor: pointer;\n",
              "      display: none;\n",
              "      fill: #1967D2;\n",
              "      height: 32px;\n",
              "      padding: 0 0 0 0;\n",
              "      width: 32px;\n",
              "    }\n",
              "\n",
              "    .colab-df-convert:hover {\n",
              "      background-color: #E2EBFA;\n",
              "      box-shadow: 0px 1px 2px rgba(60, 64, 67, 0.3), 0px 1px 3px 1px rgba(60, 64, 67, 0.15);\n",
              "      fill: #174EA6;\n",
              "    }\n",
              "\n",
              "    [theme=dark] .colab-df-convert {\n",
              "      background-color: #3B4455;\n",
              "      fill: #D2E3FC;\n",
              "    }\n",
              "\n",
              "    [theme=dark] .colab-df-convert:hover {\n",
              "      background-color: #434B5C;\n",
              "      box-shadow: 0px 1px 3px 1px rgba(0, 0, 0, 0.15);\n",
              "      filter: drop-shadow(0px 1px 2px rgba(0, 0, 0, 0.3));\n",
              "      fill: #FFFFFF;\n",
              "    }\n",
              "  </style>\n",
              "\n",
              "      <script>\n",
              "        const buttonEl =\n",
              "          document.querySelector('#df-d38c6032-e391-40c1-a6fc-65103b9f3d01 button.colab-df-convert');\n",
              "        buttonEl.style.display =\n",
              "          google.colab.kernel.accessAllowed ? 'block' : 'none';\n",
              "\n",
              "        async function convertToInteractive(key) {\n",
              "          const element = document.querySelector('#df-d38c6032-e391-40c1-a6fc-65103b9f3d01');\n",
              "          const dataTable =\n",
              "            await google.colab.kernel.invokeFunction('convertToInteractive',\n",
              "                                                     [key], {});\n",
              "          if (!dataTable) return;\n",
              "\n",
              "          const docLinkHtml = 'Like what you see? Visit the ' +\n",
              "            '<a target=\"_blank\" href=https://colab.research.google.com/notebooks/data_table.ipynb>data table notebook</a>'\n",
              "            + ' to learn more about interactive tables.';\n",
              "          element.innerHTML = '';\n",
              "          dataTable['output_type'] = 'display_data';\n",
              "          await google.colab.output.renderOutput(dataTable, element);\n",
              "          const docLink = document.createElement('div');\n",
              "          docLink.innerHTML = docLinkHtml;\n",
              "          element.appendChild(docLink);\n",
              "        }\n",
              "      </script>\n",
              "    </div>\n",
              "  </div>\n",
              "  "
            ]
          },
          "metadata": {},
          "execution_count": 32
        }
      ],
      "source": [
        "df_data.head(3)"
      ]
    },
    {
      "cell_type": "markdown",
      "id": "2942b801",
      "metadata": {
        "id": "2942b801"
      },
      "source": [
        "-------------------------------------------------------------------------------------------------------------------------------"
      ]
    },
    {
      "cell_type": "markdown",
      "id": "3ba5111f",
      "metadata": {
        "id": "3ba5111f"
      },
      "source": [
        "<div style=\"margin: 10px;\">\n",
        "    <h2 style=\"font-family: Arial\">\n",
        "        <font color=\"#0E1117\">\n",
        "            Sentiment analysis: VADER\n",
        "        </font>\n",
        "    </h2>\n",
        "</div>"
      ]
    },
    {
      "cell_type": "code",
      "execution_count": null,
      "id": "37cfa8b3",
      "metadata": {
        "id": "37cfa8b3"
      },
      "outputs": [],
      "source": [
        "vader = SentimentIntensityAnalyzer()"
      ]
    },
    {
      "cell_type": "code",
      "execution_count": null,
      "id": "097ad391",
      "metadata": {
        "id": "097ad391"
      },
      "outputs": [],
      "source": [
        "df_data[\"Score\"] = df_data[\"Review\"].apply(\n",
        "    lambda review: vader.polarity_scores(review)\n",
        ")\n",
        "df_data[\"Compound\"] = df_data[\"Score\"].apply(\n",
        "    lambda score_dict: score_dict[\"compound\"]\n",
        ")\n",
        "df_data[\"Sentiment\"] = df_data[\"Compound\"].apply(\n",
        "    lambda sent: \"positive\" if sent > 0 else (\"neutral\" if sent == 0 else \"negative\")\n",
        ")"
      ]
    },
    {
      "cell_type": "code",
      "execution_count": null,
      "id": "8c810aa8",
      "metadata": {
        "id": "8c810aa8",
        "outputId": "92c0461c-7b10-41a3-cab8-93b8d6915ac2",
        "colab": {
          "base_uri": "https://localhost:8080/"
        }
      },
      "outputs": [
        {
          "output_type": "execute_result",
          "data": {
            "text/plain": [
              "positive    743\n",
              "negative    166\n",
              "neutral      82\n",
              "Name: Sentiment, dtype: int64"
            ]
          },
          "metadata": {},
          "execution_count": 35
        }
      ],
      "source": [
        "df_data[\"Sentiment\"].value_counts()"
      ]
    },
    {
      "cell_type": "code",
      "execution_count": null,
      "id": "0425a1cb",
      "metadata": {
        "id": "0425a1cb",
        "outputId": "decf7ffa-ce93-4684-8300-9f6737ac625c",
        "colab": {
          "base_uri": "https://localhost:8080/",
          "height": 257
        }
      },
      "outputs": [
        {
          "output_type": "execute_result",
          "data": {
            "text/plain": [
              "    Pseudo                              Title  \\\n",
              "0    R.A.O  A Small, But Very Powerful Device   \n",
              "1  Bee Lor   Excellent portable gaming laptop   \n",
              "2    R.A.O                         Four Stars   \n",
              "\n",
              "                                              Review              Rating  \\\n",
              "0  Review is based of having the computer as a da...  4.5 out of 5 stars   \n",
              "1  I'm writing this review for anyone who's on th...  5.0 out of 5 stars   \n",
              "2  Truly a nice product, but overpriced in genera...  3.0 out of 5 stars   \n",
              "\n",
              "   Verified Purchase                                               Date  \\\n",
              "0               True  Reviewed in the United States 🇺🇸 on November 2...   \n",
              "1               True  Reviewed in the United States 🇺🇸 on January 6,...   \n",
              "2               True  Reviewed in the United States 🇺🇸 on November 2...   \n",
              "\n",
              "                                               Score  Compound Sentiment  \n",
              "0  {'neg': 0.015, 'neu': 0.82, 'pos': 0.165, 'com...    0.9984  positive  \n",
              "1  {'neg': 0.016, 'neu': 0.88, 'pos': 0.104, 'com...    0.9921  positive  \n",
              "2  {'neg': 0.066, 'neu': 0.831, 'pos': 0.102, 'co...    0.6369  positive  "
            ],
            "text/html": [
              "\n",
              "  <div id=\"df-739bdd2e-4e23-430b-8e92-126938ae1550\">\n",
              "    <div class=\"colab-df-container\">\n",
              "      <div>\n",
              "<style scoped>\n",
              "    .dataframe tbody tr th:only-of-type {\n",
              "        vertical-align: middle;\n",
              "    }\n",
              "\n",
              "    .dataframe tbody tr th {\n",
              "        vertical-align: top;\n",
              "    }\n",
              "\n",
              "    .dataframe thead th {\n",
              "        text-align: right;\n",
              "    }\n",
              "</style>\n",
              "<table border=\"1\" class=\"dataframe\">\n",
              "  <thead>\n",
              "    <tr style=\"text-align: right;\">\n",
              "      <th></th>\n",
              "      <th>Pseudo</th>\n",
              "      <th>Title</th>\n",
              "      <th>Review</th>\n",
              "      <th>Rating</th>\n",
              "      <th>Verified Purchase</th>\n",
              "      <th>Date</th>\n",
              "      <th>Score</th>\n",
              "      <th>Compound</th>\n",
              "      <th>Sentiment</th>\n",
              "    </tr>\n",
              "  </thead>\n",
              "  <tbody>\n",
              "    <tr>\n",
              "      <th>0</th>\n",
              "      <td>R.A.O</td>\n",
              "      <td>A Small, But Very Powerful Device</td>\n",
              "      <td>Review is based of having the computer as a da...</td>\n",
              "      <td>4.5 out of 5 stars</td>\n",
              "      <td>True</td>\n",
              "      <td>Reviewed in the United States 🇺🇸 on November 2...</td>\n",
              "      <td>{'neg': 0.015, 'neu': 0.82, 'pos': 0.165, 'com...</td>\n",
              "      <td>0.9984</td>\n",
              "      <td>positive</td>\n",
              "    </tr>\n",
              "    <tr>\n",
              "      <th>1</th>\n",
              "      <td>Bee Lor</td>\n",
              "      <td>Excellent portable gaming laptop</td>\n",
              "      <td>I'm writing this review for anyone who's on th...</td>\n",
              "      <td>5.0 out of 5 stars</td>\n",
              "      <td>True</td>\n",
              "      <td>Reviewed in the United States 🇺🇸 on January 6,...</td>\n",
              "      <td>{'neg': 0.016, 'neu': 0.88, 'pos': 0.104, 'com...</td>\n",
              "      <td>0.9921</td>\n",
              "      <td>positive</td>\n",
              "    </tr>\n",
              "    <tr>\n",
              "      <th>2</th>\n",
              "      <td>R.A.O</td>\n",
              "      <td>Four Stars</td>\n",
              "      <td>Truly a nice product, but overpriced in genera...</td>\n",
              "      <td>3.0 out of 5 stars</td>\n",
              "      <td>True</td>\n",
              "      <td>Reviewed in the United States 🇺🇸 on November 2...</td>\n",
              "      <td>{'neg': 0.066, 'neu': 0.831, 'pos': 0.102, 'co...</td>\n",
              "      <td>0.6369</td>\n",
              "      <td>positive</td>\n",
              "    </tr>\n",
              "  </tbody>\n",
              "</table>\n",
              "</div>\n",
              "      <button class=\"colab-df-convert\" onclick=\"convertToInteractive('df-739bdd2e-4e23-430b-8e92-126938ae1550')\"\n",
              "              title=\"Convert this dataframe to an interactive table.\"\n",
              "              style=\"display:none;\">\n",
              "        \n",
              "  <svg xmlns=\"http://www.w3.org/2000/svg\" height=\"24px\"viewBox=\"0 0 24 24\"\n",
              "       width=\"24px\">\n",
              "    <path d=\"M0 0h24v24H0V0z\" fill=\"none\"/>\n",
              "    <path d=\"M18.56 5.44l.94 2.06.94-2.06 2.06-.94-2.06-.94-.94-2.06-.94 2.06-2.06.94zm-11 1L8.5 8.5l.94-2.06 2.06-.94-2.06-.94L8.5 2.5l-.94 2.06-2.06.94zm10 10l.94 2.06.94-2.06 2.06-.94-2.06-.94-.94-2.06-.94 2.06-2.06.94z\"/><path d=\"M17.41 7.96l-1.37-1.37c-.4-.4-.92-.59-1.43-.59-.52 0-1.04.2-1.43.59L10.3 9.45l-7.72 7.72c-.78.78-.78 2.05 0 2.83L4 21.41c.39.39.9.59 1.41.59.51 0 1.02-.2 1.41-.59l7.78-7.78 2.81-2.81c.8-.78.8-2.07 0-2.86zM5.41 20L4 18.59l7.72-7.72 1.47 1.35L5.41 20z\"/>\n",
              "  </svg>\n",
              "      </button>\n",
              "      \n",
              "  <style>\n",
              "    .colab-df-container {\n",
              "      display:flex;\n",
              "      flex-wrap:wrap;\n",
              "      gap: 12px;\n",
              "    }\n",
              "\n",
              "    .colab-df-convert {\n",
              "      background-color: #E8F0FE;\n",
              "      border: none;\n",
              "      border-radius: 50%;\n",
              "      cursor: pointer;\n",
              "      display: none;\n",
              "      fill: #1967D2;\n",
              "      height: 32px;\n",
              "      padding: 0 0 0 0;\n",
              "      width: 32px;\n",
              "    }\n",
              "\n",
              "    .colab-df-convert:hover {\n",
              "      background-color: #E2EBFA;\n",
              "      box-shadow: 0px 1px 2px rgba(60, 64, 67, 0.3), 0px 1px 3px 1px rgba(60, 64, 67, 0.15);\n",
              "      fill: #174EA6;\n",
              "    }\n",
              "\n",
              "    [theme=dark] .colab-df-convert {\n",
              "      background-color: #3B4455;\n",
              "      fill: #D2E3FC;\n",
              "    }\n",
              "\n",
              "    [theme=dark] .colab-df-convert:hover {\n",
              "      background-color: #434B5C;\n",
              "      box-shadow: 0px 1px 3px 1px rgba(0, 0, 0, 0.15);\n",
              "      filter: drop-shadow(0px 1px 2px rgba(0, 0, 0, 0.3));\n",
              "      fill: #FFFFFF;\n",
              "    }\n",
              "  </style>\n",
              "\n",
              "      <script>\n",
              "        const buttonEl =\n",
              "          document.querySelector('#df-739bdd2e-4e23-430b-8e92-126938ae1550 button.colab-df-convert');\n",
              "        buttonEl.style.display =\n",
              "          google.colab.kernel.accessAllowed ? 'block' : 'none';\n",
              "\n",
              "        async function convertToInteractive(key) {\n",
              "          const element = document.querySelector('#df-739bdd2e-4e23-430b-8e92-126938ae1550');\n",
              "          const dataTable =\n",
              "            await google.colab.kernel.invokeFunction('convertToInteractive',\n",
              "                                                     [key], {});\n",
              "          if (!dataTable) return;\n",
              "\n",
              "          const docLinkHtml = 'Like what you see? Visit the ' +\n",
              "            '<a target=\"_blank\" href=https://colab.research.google.com/notebooks/data_table.ipynb>data table notebook</a>'\n",
              "            + ' to learn more about interactive tables.';\n",
              "          element.innerHTML = '';\n",
              "          dataTable['output_type'] = 'display_data';\n",
              "          await google.colab.output.renderOutput(dataTable, element);\n",
              "          const docLink = document.createElement('div');\n",
              "          docLink.innerHTML = docLinkHtml;\n",
              "          element.appendChild(docLink);\n",
              "        }\n",
              "      </script>\n",
              "    </div>\n",
              "  </div>\n",
              "  "
            ]
          },
          "metadata": {},
          "execution_count": 36
        }
      ],
      "source": [
        "df_data.head(3)"
      ]
    },
    {
      "cell_type": "markdown",
      "id": "0e485edb",
      "metadata": {
        "id": "0e485edb"
      },
      "source": [
        "-------------------------------------------------------------------------------------------------------------------------------"
      ]
    },
    {
      "cell_type": "markdown",
      "id": "6f005cdf",
      "metadata": {
        "id": "6f005cdf"
      },
      "source": [
        "<div style=\"margin: 10px;\">\n",
        "    <h2 style=\"font-family: Arial\">\n",
        "        <font color=\"#0E1117\">\n",
        "            Text cleaning: second part\n",
        "        </font>\n",
        "    </h2>\n",
        "</div>"
      ]
    },
    {
      "cell_type": "markdown",
      "id": "7ecb444c",
      "metadata": {
        "id": "7ecb444c"
      },
      "source": [
        "<div style=\"margin: 10px;\">\n",
        "    <h3 style=\"font-family: Arial\">\n",
        "        <font color=\"#0E1117\">\n",
        "            1) Lowercase\n",
        "        </font>\n",
        "    </h3>\n",
        "</div>"
      ]
    },
    {
      "cell_type": "code",
      "execution_count": null,
      "id": "78159f0e",
      "metadata": {
        "id": "78159f0e"
      },
      "outputs": [],
      "source": [
        "df_data = TextNet(\n",
        "    data=df_data,\n",
        "    column=\"Review\"\n",
        ").lowercase()\n",
        "\n",
        "df_data = TextNet(\n",
        "    data=df_data,\n",
        "    column=\"Title\"\n",
        ").lowercase()"
      ]
    },
    {
      "cell_type": "markdown",
      "id": "14105d15",
      "metadata": {
        "id": "14105d15"
      },
      "source": [
        "<div style=\"margin: 10px;\">\n",
        "    <h3 style=\"font-family: Arial\">\n",
        "        <font color=\"#0E1117\">\n",
        "            2) Punctuation\n",
        "        </font>\n",
        "    </h3>\n",
        "</div>"
      ]
    },
    {
      "cell_type": "code",
      "execution_count": null,
      "id": "657d66da",
      "metadata": {
        "id": "657d66da"
      },
      "outputs": [],
      "source": [
        "df_data = TextNet(\n",
        "    data=df_data,\n",
        "    column=\"Review\"\n",
        ").remove_punctuation()\n",
        "\n",
        "df_data = TextNet(\n",
        "    data=df_data,\n",
        "    column=\"Title\"\n",
        ").remove_punctuation()"
      ]
    },
    {
      "cell_type": "markdown",
      "id": "88ce305b",
      "metadata": {
        "id": "88ce305b"
      },
      "source": [
        "<div style=\"margin: 10px;\">\n",
        "    <h3 style=\"font-family: Arial\">\n",
        "        <font color=\"#0E1117\">\n",
        "            3) Specific cleaning\n",
        "        </font>\n",
        "    </h3>\n",
        "</div>"
      ]
    },
    {
      "cell_type": "code",
      "execution_count": null,
      "id": "1f080a25",
      "metadata": {
        "id": "1f080a25"
      },
      "outputs": [],
      "source": [
        "df_data = TextNet(\n",
        "    data=df_data,\n",
        "    column=\"Review\"\n",
        ").remove_url()\n",
        "\n",
        "df_data = TextNet(\n",
        "    data=df_data,\n",
        "    column=\"Title\"\n",
        ").remove_url()"
      ]
    },
    {
      "cell_type": "code",
      "execution_count": null,
      "id": "0548c487",
      "metadata": {
        "id": "0548c487"
      },
      "outputs": [],
      "source": [
        "df_data = TextNet(\n",
        "    data=df_data,\n",
        "    column=\"Review\"\n",
        ").remove_html()\n",
        "\n",
        "df_data = TextNet(\n",
        "    data=df_data,\n",
        "    column=\"Title\"\n",
        ").remove_html()"
      ]
    },
    {
      "cell_type": "code",
      "execution_count": null,
      "id": "35380d42",
      "metadata": {
        "id": "35380d42"
      },
      "outputs": [],
      "source": [
        "df_data = TextNet(\n",
        "    data=df_data,\n",
        "    column=\"Review\"\n",
        ").remove_email()\n",
        "\n",
        "df_data = TextNet(\n",
        "    data=df_data,\n",
        "    column=\"Title\"\n",
        ").remove_email()"
      ]
    },
    {
      "cell_type": "code",
      "execution_count": null,
      "id": "2e6d16d6",
      "metadata": {
        "id": "2e6d16d6"
      },
      "outputs": [],
      "source": [
        "df_data = TextNet(\n",
        "    data=df_data,\n",
        "    column=\"Review\"\n",
        ").remove_digit()\n",
        "\n",
        "df_data = TextNet(\n",
        "    data=df_data,\n",
        "    column=\"Title\"\n",
        ").remove_digit()"
      ]
    },
    {
      "cell_type": "code",
      "execution_count": null,
      "id": "5581301f",
      "metadata": {
        "id": "5581301f"
      },
      "outputs": [],
      "source": [
        "df_data = TextNet(\n",
        "    data=df_data,\n",
        "    column=\"Review\"\n",
        ").remove_mention()\n",
        "\n",
        "df_data = TextNet(\n",
        "    data=df_data,\n",
        "    column=\"Title\"\n",
        ").remove_mention()"
      ]
    },
    {
      "cell_type": "code",
      "execution_count": null,
      "id": "2e564d41",
      "metadata": {
        "id": "2e564d41"
      },
      "outputs": [],
      "source": [
        "df_data = TextNet(\n",
        "    data=df_data,\n",
        "    column=\"Review\"\n",
        ").remove_hastag()\n",
        "\n",
        "df_data = TextNet(\n",
        "    data=df_data,\n",
        "    column=\"Title\"\n",
        ").remove_hastag()"
      ]
    },
    {
      "cell_type": "code",
      "execution_count": null,
      "id": "114014b5",
      "metadata": {
        "id": "114014b5"
      },
      "outputs": [],
      "source": [
        "df_data = TextNet(\n",
        "    data=df_data,\n",
        "    column=\"Review\"\n",
        ").remove_emoji()\n",
        "\n",
        "df_data = TextNet(\n",
        "    data=df_data,\n",
        "    column=\"Title\"\n",
        ").remove_emoji()"
      ]
    },
    {
      "cell_type": "markdown",
      "id": "784ddfc1",
      "metadata": {
        "id": "784ddfc1"
      },
      "source": [
        "<div style=\"margin: 10px;\">\n",
        "    <h3 style=\"font-family: Arial\">\n",
        "        <font color=\"#0E1117\">\n",
        "            4) Remove stopwords\n",
        "        </font>\n",
        "    </h3>\n",
        "</div>"
      ]
    },
    {
      "cell_type": "code",
      "execution_count": null,
      "id": "f92c438c",
      "metadata": {
        "id": "f92c438c"
      },
      "outputs": [],
      "source": [
        "stopwords_to_keep = [\n",
        "    \"doesn\", \"doesn't\", \"doesnt\", \"dont\", \"don't\", \"not\", \"wasn't\", \"wasnt\",\n",
        "    \"aren\", \"aren't\", \"arent\",  \"couldn\", \"couldn't\", \"couldnt\", \"didn\",\n",
        "    \"didn't\", \"didnt\", \"hadn\", \"hadn't\", \"hadnt\",  \"hasn\", \"hasn't\", \"hasnt\",\n",
        "    \"haven't\", \"havent\", \"isn\", \"isn't\", \"isnt\", \"mightn\",  \"mightn't\",\n",
        "    \"mightnt\", \"mustn\", \"mustn't\", \"mustnt\", \"needn\", \"needn't\", \"neednt\",\n",
        "    \"shan\", \"shan't\", \"shant\", \"shouldn\", \"shouldn't\", \"shouldnt\", \"wasn\",\n",
        "    \"wasn't\",  \"wasnt\", \"weren\", \"weren't\", \"werent\", \"won\", \"won't\", \"wont\",\n",
        "    \"wouldn\", \"wouldn't\", \"wouldnt\", \"good\", \"bad\", \"worst\", \"wonderfull\",\n",
        "    \"best\", \"better\"\n",
        "]\n",
        "\n",
        "stopwords_to_add = [\n",
        "    \"es\", \"que\", \"en\", \"la\", \"las\", \"le\", \"les\", \"lo\", \"los\", \"de\", \"no\",\n",
        "    \"el\", \"al\", \"un\", \"una\", \"se\", \"sa\", \"su\", \"sus\", \"por\", \"con\", \"mi\",\n",
        "    \"para\", \"todo\", \"gb\", \"laptop\", \"computer\", \"pc\"\n",
        "]"
      ]
    },
    {
      "cell_type": "code",
      "execution_count": null,
      "id": "ccefe527",
      "metadata": {
        "id": "ccefe527"
      },
      "outputs": [],
      "source": [
        "df_data = WordNet(\n",
        "    data=df_data,\n",
        "    column=\"Review\"\n",
        ").remove_stopword(\n",
        "    language=\"english\",\n",
        "    lowercase=False,\n",
        "    remove_accents=False,\n",
        "    add_stopwords=stopwords_to_add,\n",
        "    remove_stopwords=stopwords_to_keep\n",
        ")\n",
        "\n",
        "df_data = WordNet(\n",
        "    data=df_data,\n",
        "    column=\"Title\"\n",
        ").remove_stopword(\n",
        "    language=\"english\",\n",
        "    lowercase=False,\n",
        "    remove_accents=False,\n",
        "    add_stopwords=stopwords_to_add,\n",
        "    remove_stopwords=stopwords_to_keep\n",
        ")"
      ]
    },
    {
      "cell_type": "markdown",
      "id": "8cf4745b",
      "metadata": {
        "id": "8cf4745b"
      },
      "source": [
        "<div style=\"margin: 10px;\">\n",
        "    <h3 style=\"font-family: Arial\">\n",
        "        <font color=\"#0E1117\">\n",
        "            5) Lemmatization process\n",
        "        </font>\n",
        "    </h3>\n",
        "</div>"
      ]
    },
    {
      "cell_type": "code",
      "execution_count": null,
      "id": "7cef3461",
      "metadata": {
        "id": "7cef3461"
      },
      "outputs": [],
      "source": [
        "df_data = WordNet(\n",
        "    data=df_data,\n",
        "    column=\"Review\"\n",
        ").lemmatize(\n",
        "    language=\"english\",\n",
        "    lowercase=False,\n",
        "    remove_accents=False\n",
        ")\n",
        "\n",
        "df_data = WordNet(\n",
        "    data=df_data,\n",
        "    column=\"Title\"\n",
        ").lemmatize(\n",
        "    language=\"english\",\n",
        "    lowercase=False,\n",
        "    remove_accents=False\n",
        ")"
      ]
    },
    {
      "cell_type": "markdown",
      "id": "46663e48",
      "metadata": {
        "id": "46663e48"
      },
      "source": [
        "<div style=\"margin: 10px;\">\n",
        "    <h3 style=\"font-family: Arial\">\n",
        "        <font color=\"#0E1117\">\n",
        "            6) Empty lines\n",
        "        </font>\n",
        "    </h3>\n",
        "</div>"
      ]
    },
    {
      "cell_type": "code",
      "execution_count": null,
      "id": "6613c40a",
      "metadata": {
        "id": "6613c40a"
      },
      "outputs": [],
      "source": [
        "df_data = df_data.dropna()\n",
        "df_data.reset_index(drop=True, inplace=True)"
      ]
    },
    {
      "cell_type": "code",
      "execution_count": null,
      "id": "13de0c01",
      "metadata": {
        "id": "13de0c01"
      },
      "outputs": [],
      "source": [
        "df_data = TextNet(\n",
        "    data=df_data,\n",
        "    column=\"Review\"\n",
        ").remove_whitespace()\n",
        "\n",
        "df_data = TextNet(\n",
        "    data=df_data,\n",
        "    column=\"Title\"\n",
        ").remove_whitespace()"
      ]
    },
    {
      "cell_type": "code",
      "execution_count": null,
      "id": "d194c47d",
      "metadata": {
        "scrolled": true,
        "id": "d194c47d",
        "outputId": "4da306bd-95e1-4cd7-9e9e-e7de08a6f685",
        "colab": {
          "base_uri": "https://localhost:8080/",
          "height": 35
        }
      },
      "outputs": [
        {
          "output_type": "execute_result",
          "data": {
            "text/plain": [
              "'Reviewed in the United States 🇺🇸 on November 27, 2021'"
            ],
            "application/vnd.google.colaboratory.intrinsic+json": {
              "type": "string"
            }
          },
          "metadata": {},
          "execution_count": 59
        }
      ],
      "source": [
        "df_data.head(3)\n",
        "df_data[\"Date\"][0]"
      ]
    },
    {
      "cell_type": "markdown",
      "id": "fbdd2e68",
      "metadata": {
        "id": "fbdd2e68"
      },
      "source": [
        "-------------------------------------------------------------------------------------------------------------------------------"
      ]
    },
    {
      "cell_type": "markdown",
      "id": "cc97e3c0",
      "metadata": {
        "id": "cc97e3c0"
      },
      "source": [
        "<div style=\"margin: 10px;\">\n",
        "    <h2 style=\"font-family: Arial\">\n",
        "        <font color=\"#0E1117\">\n",
        "            Feature Engineering\n",
        "        </font>\n",
        "    </h2>\n",
        "</div>"
      ]
    },
    {
      "cell_type": "markdown",
      "id": "fcd4211a",
      "metadata": {
        "id": "fcd4211a"
      },
      "source": [
        "<div style=\"margin: 10px;\">\n",
        "    <h3 style=\"font-family: Arial\">\n",
        "        <font color=\"#0E1117\">\n",
        "            1) Rating\n",
        "        </font>\n",
        "    </h3>\n",
        "</div>"
      ]
    },
    {
      "cell_type": "code",
      "execution_count": null,
      "id": "ec766b81",
      "metadata": {
        "id": "ec766b81"
      },
      "outputs": [],
      "source": [
        "def feature_rating(text, dataframe) -> pd.core.frame.DataFrame:\n",
        "    \"\"\"\n",
        "    Function that extracts the customer's rating and converts it to a float.\n",
        "    \n",
        "    Parameters\n",
        "    ----------\n",
        "    text : str or pandas.core.series.Series\n",
        "        Text from which to extract the client's note.\n",
        "    \n",
        "    dataframe : pandas.core.frame.DataFrame\n",
        "        Dataframe that allows the extraction of the final results.\n",
        "\n",
        "    Returns\n",
        "    -------\n",
        "    pandas.core.frame.DataFrame\n",
        "        Dataframe that contains the final result.\n",
        "\n",
        "    \"\"\"\n",
        "    rating = []\n",
        "    for i in range(0, len(text)):\n",
        "        row = text[i].split(\" \")\n",
        "        row = row[0].replace(\",\", \".\")\n",
        "        row = float(row)\n",
        "        rating.append(row)\n",
        "    \n",
        "    df_data = pd.DataFrame({\"New rating\": rating})\n",
        "    dataframe = pd.concat([dataframe, df_data[\"New rating\"]], axis=1)\n",
        "    \n",
        "    return dataframe\n",
        "\n",
        "df_data = feature_rating(text=df_data[\"Rating\"], dataframe=df_data)"
      ]
    },
    {
      "cell_type": "markdown",
      "id": "9945a703",
      "metadata": {
        "id": "9945a703"
      },
      "source": [
        "<div style=\"margin: 10px;\">\n",
        "    <h3 style=\"font-family: Arial\">\n",
        "        <font color=\"#0E1117\">\n",
        "            2) Date\n",
        "        </font>\n",
        "    </h3>\n",
        "</div>"
      ]
    },
    {
      "cell_type": "code",
      "execution_count": null,
      "id": "66e9b3a7",
      "metadata": {
        "id": "66e9b3a7"
      },
      "outputs": [],
      "source": [
        "def feature_date(text, dataframe) -> pd.core.frame.DataFrame:\n",
        "    \"\"\"\n",
        "    Function to extract the date from a text and convert it to datetime.\n",
        "\n",
        "    Parameters\n",
        "    ----------\n",
        "    text : str or pandas.core.series.Series\n",
        "        Text from which to extract the review's date.\n",
        "    \n",
        "    dataframe : pandas.core.frame.DataFrame\n",
        "        Dataframe that allows the extraction of the final results.\n",
        "\n",
        "    Returns\n",
        "    -------\n",
        "    pandas.core.frame.DataFrame\n",
        "        Dataframe that contains the final result.\n",
        "\n",
        "    \"\"\"\n",
        "    root = {\n",
        "        \"January\": \"01\", \"january\": \"01\",\n",
        "        \"February\": \"02\", \"february\": \"02\",\n",
        "        \"March\": \"03\", \"march\": \"03\",\n",
        "        \"April\": \"04\", \"april\": \"04\",\n",
        "        \"May\": \"05\", \"may\": \"05\",\n",
        "        \"June\": \"06\", \"june\": \"06\",\n",
        "        \"July\": \"07\", \"july\": \"07\",\n",
        "        \"August\": \"08\", \"august\": \"08\",\n",
        "        \"September\": \"09\", \"september\": \"09\",\n",
        "        \"0ctober\": \"10\", \"october\": \"10\",\n",
        "        \"November\": \"11\", \"november\": \"11\",\n",
        "        \"December\": \"12\", \"december\": \"12\"\n",
        "    }\n",
        "\n",
        "    date = []\n",
        "    for i in range(0, len(text)):\n",
        "        row = text[i].split(\" \")\n",
        "        row = \" \".join(row[row.index(\"on\") + 1:row.index(\"on\") + 4])\n",
        "        date.append(row)\n",
        "\n",
        "    datetime = [word.split(\" \") for word in date]\n",
        "\n",
        "    date = []\n",
        "    for element in datetime:\n",
        "        for key, value in root.items():\n",
        "            if key not in element:\n",
        "                continue\n",
        "\n",
        "            index = element.index(key)\n",
        "            element[index] = value\n",
        "        row = \"/\".join(element)\n",
        "        date.append(row)\n",
        "    \n",
        "    df_data = pd.DataFrame({\"New date\": date})\n",
        "    df_data[\"New date\"] = pd.to_datetime(df_data[\"New date\"])\n",
        "    dataframe = pd.concat([dataframe, df_data[\"New date\"]], axis=1)\n",
        "    \n",
        "    return dataframe\n",
        "\n",
        "df_data = feature_date(text=df_data[\"Date\"], dataframe=df_data)"
      ]
    },
    {
      "cell_type": "markdown",
      "id": "94263d88",
      "metadata": {
        "id": "94263d88"
      },
      "source": [
        "<div style=\"margin: 10px;\">\n",
        "    <h3 style=\"font-family: Arial\">\n",
        "        <font color=\"#0E1117\">\n",
        "            3) Verified purchase\n",
        "        </font>\n",
        "    </h3>\n",
        "</div>"
      ]
    },
    {
      "cell_type": "code",
      "execution_count": null,
      "id": "24b9f562",
      "metadata": {
        "id": "24b9f562"
      },
      "outputs": [],
      "source": [
        "#not necessary with how i processed data\n",
        "df_data[\"Verified Purchase\"].replace(\n",
        "    to_replace=\"Verified Purchase\",\n",
        "    value=\"TRUE\",\n",
        "    inplace=True\n",
        ")"
      ]
    },
    {
      "cell_type": "markdown",
      "id": "4c5fb35d",
      "metadata": {
        "id": "4c5fb35d"
      },
      "source": [
        "<div style=\"margin: 10px;\">\n",
        "    <h3 style=\"font-family: Arial\">\n",
        "        <font color=\"#0E1117\">\n",
        "            4) Country\n",
        "        </font>\n",
        "    </h3>\n",
        "</div>"
      ]
    },
    {
      "cell_type": "code",
      "execution_count": null,
      "id": "7a94c4a8",
      "metadata": {
        "id": "7a94c4a8"
      },
      "outputs": [],
      "source": [
        "def feature_country(text, dataframe) -> pd.core.frame.DataFrame:\n",
        "    \"\"\"\n",
        "    Function to extract the country from a text.\n",
        "\n",
        "    Parameters\n",
        "    ----------\n",
        "    text : str or pandas.core.series.Series\n",
        "        Text from which to extract the review's country.\n",
        "    \n",
        "    dataframe : pandas.core.frame.DataFrame\n",
        "        Dataframe that allows the extraction of the final results.\n",
        "\n",
        "    Returns\n",
        "    -------\n",
        "    pandas.core.frame.DataFrame\n",
        "        Dataframe that contains the final result.\n",
        "\n",
        "    \"\"\"\n",
        "    country = []\n",
        "    for i in range(0, len(text)):\n",
        "        row = text[i].split(\" \")\n",
        "        row = row[3] + \" \" + row[4]\n",
        "        country.append(row)\n",
        "    \n",
        "    df_data = pd.DataFrame({\"Country\": country})\n",
        "    dataframe = pd.concat([dataframe, df_data[\"Country\"]], axis=1)\n",
        "    \n",
        "    return dataframe\n",
        "\n",
        "df_data = feature_country(text=df_data[\"Date\"], dataframe=df_data)"
      ]
    },
    {
      "cell_type": "code",
      "execution_count": null,
      "id": "8f14377b",
      "metadata": {
        "id": "8f14377b",
        "outputId": "f4a1c817-83e0-458d-c45f-8a71a6984640",
        "colab": {
          "base_uri": "https://localhost:8080/",
          "height": 309
        }
      },
      "outputs": [
        {
          "output_type": "execute_result",
          "data": {
            "text/plain": [
              "    Pseudo                      Title  \\\n",
              "0    R.A.O      small powerful device   \n",
              "1  Bee Lor  excellent portable gaming   \n",
              "2    R.A.O                      stars   \n",
              "\n",
              "                                              Review              Rating  \\\n",
              "0  review base daily driver week meant gaming med...  4.5 out of 5 stars   \n",
              "1  write review anyone fence purchasing since rea...  5.0 out of 5 stars   \n",
              "2  truly nice product overpriced general example ...  3.0 out of 5 stars   \n",
              "\n",
              "   Verified Purchase                                               Date  \\\n",
              "0               True  Reviewed in the United States 🇺🇸 on November 2...   \n",
              "1               True  Reviewed in the United States 🇺🇸 on January 6,...   \n",
              "2               True  Reviewed in the United States 🇺🇸 on November 2...   \n",
              "\n",
              "                                               Score  Compound Sentiment  \\\n",
              "0  {'neg': 0.015, 'neu': 0.82, 'pos': 0.165, 'com...    0.9984  positive   \n",
              "1  {'neg': 0.016, 'neu': 0.88, 'pos': 0.104, 'com...    0.9921  positive   \n",
              "2  {'neg': 0.066, 'neu': 0.831, 'pos': 0.102, 'co...    0.6369  positive   \n",
              "\n",
              "   New rating   New date        Country  \n",
              "0         4.5 2021-11-27  United States  \n",
              "1         5.0 2022-01-06  United States  \n",
              "2         3.0 2021-11-27  United States  "
            ],
            "text/html": [
              "\n",
              "  <div id=\"df-12fa88f4-d964-484d-a3be-ee0abf10df01\">\n",
              "    <div class=\"colab-df-container\">\n",
              "      <div>\n",
              "<style scoped>\n",
              "    .dataframe tbody tr th:only-of-type {\n",
              "        vertical-align: middle;\n",
              "    }\n",
              "\n",
              "    .dataframe tbody tr th {\n",
              "        vertical-align: top;\n",
              "    }\n",
              "\n",
              "    .dataframe thead th {\n",
              "        text-align: right;\n",
              "    }\n",
              "</style>\n",
              "<table border=\"1\" class=\"dataframe\">\n",
              "  <thead>\n",
              "    <tr style=\"text-align: right;\">\n",
              "      <th></th>\n",
              "      <th>Pseudo</th>\n",
              "      <th>Title</th>\n",
              "      <th>Review</th>\n",
              "      <th>Rating</th>\n",
              "      <th>Verified Purchase</th>\n",
              "      <th>Date</th>\n",
              "      <th>Score</th>\n",
              "      <th>Compound</th>\n",
              "      <th>Sentiment</th>\n",
              "      <th>New rating</th>\n",
              "      <th>New date</th>\n",
              "      <th>Country</th>\n",
              "    </tr>\n",
              "  </thead>\n",
              "  <tbody>\n",
              "    <tr>\n",
              "      <th>0</th>\n",
              "      <td>R.A.O</td>\n",
              "      <td>small powerful device</td>\n",
              "      <td>review base daily driver week meant gaming med...</td>\n",
              "      <td>4.5 out of 5 stars</td>\n",
              "      <td>True</td>\n",
              "      <td>Reviewed in the United States 🇺🇸 on November 2...</td>\n",
              "      <td>{'neg': 0.015, 'neu': 0.82, 'pos': 0.165, 'com...</td>\n",
              "      <td>0.9984</td>\n",
              "      <td>positive</td>\n",
              "      <td>4.5</td>\n",
              "      <td>2021-11-27</td>\n",
              "      <td>United States</td>\n",
              "    </tr>\n",
              "    <tr>\n",
              "      <th>1</th>\n",
              "      <td>Bee Lor</td>\n",
              "      <td>excellent portable gaming</td>\n",
              "      <td>write review anyone fence purchasing since rea...</td>\n",
              "      <td>5.0 out of 5 stars</td>\n",
              "      <td>True</td>\n",
              "      <td>Reviewed in the United States 🇺🇸 on January 6,...</td>\n",
              "      <td>{'neg': 0.016, 'neu': 0.88, 'pos': 0.104, 'com...</td>\n",
              "      <td>0.9921</td>\n",
              "      <td>positive</td>\n",
              "      <td>5.0</td>\n",
              "      <td>2022-01-06</td>\n",
              "      <td>United States</td>\n",
              "    </tr>\n",
              "    <tr>\n",
              "      <th>2</th>\n",
              "      <td>R.A.O</td>\n",
              "      <td>stars</td>\n",
              "      <td>truly nice product overpriced general example ...</td>\n",
              "      <td>3.0 out of 5 stars</td>\n",
              "      <td>True</td>\n",
              "      <td>Reviewed in the United States 🇺🇸 on November 2...</td>\n",
              "      <td>{'neg': 0.066, 'neu': 0.831, 'pos': 0.102, 'co...</td>\n",
              "      <td>0.6369</td>\n",
              "      <td>positive</td>\n",
              "      <td>3.0</td>\n",
              "      <td>2021-11-27</td>\n",
              "      <td>United States</td>\n",
              "    </tr>\n",
              "  </tbody>\n",
              "</table>\n",
              "</div>\n",
              "      <button class=\"colab-df-convert\" onclick=\"convertToInteractive('df-12fa88f4-d964-484d-a3be-ee0abf10df01')\"\n",
              "              title=\"Convert this dataframe to an interactive table.\"\n",
              "              style=\"display:none;\">\n",
              "        \n",
              "  <svg xmlns=\"http://www.w3.org/2000/svg\" height=\"24px\"viewBox=\"0 0 24 24\"\n",
              "       width=\"24px\">\n",
              "    <path d=\"M0 0h24v24H0V0z\" fill=\"none\"/>\n",
              "    <path d=\"M18.56 5.44l.94 2.06.94-2.06 2.06-.94-2.06-.94-.94-2.06-.94 2.06-2.06.94zm-11 1L8.5 8.5l.94-2.06 2.06-.94-2.06-.94L8.5 2.5l-.94 2.06-2.06.94zm10 10l.94 2.06.94-2.06 2.06-.94-2.06-.94-.94-2.06-.94 2.06-2.06.94z\"/><path d=\"M17.41 7.96l-1.37-1.37c-.4-.4-.92-.59-1.43-.59-.52 0-1.04.2-1.43.59L10.3 9.45l-7.72 7.72c-.78.78-.78 2.05 0 2.83L4 21.41c.39.39.9.59 1.41.59.51 0 1.02-.2 1.41-.59l7.78-7.78 2.81-2.81c.8-.78.8-2.07 0-2.86zM5.41 20L4 18.59l7.72-7.72 1.47 1.35L5.41 20z\"/>\n",
              "  </svg>\n",
              "      </button>\n",
              "      \n",
              "  <style>\n",
              "    .colab-df-container {\n",
              "      display:flex;\n",
              "      flex-wrap:wrap;\n",
              "      gap: 12px;\n",
              "    }\n",
              "\n",
              "    .colab-df-convert {\n",
              "      background-color: #E8F0FE;\n",
              "      border: none;\n",
              "      border-radius: 50%;\n",
              "      cursor: pointer;\n",
              "      display: none;\n",
              "      fill: #1967D2;\n",
              "      height: 32px;\n",
              "      padding: 0 0 0 0;\n",
              "      width: 32px;\n",
              "    }\n",
              "\n",
              "    .colab-df-convert:hover {\n",
              "      background-color: #E2EBFA;\n",
              "      box-shadow: 0px 1px 2px rgba(60, 64, 67, 0.3), 0px 1px 3px 1px rgba(60, 64, 67, 0.15);\n",
              "      fill: #174EA6;\n",
              "    }\n",
              "\n",
              "    [theme=dark] .colab-df-convert {\n",
              "      background-color: #3B4455;\n",
              "      fill: #D2E3FC;\n",
              "    }\n",
              "\n",
              "    [theme=dark] .colab-df-convert:hover {\n",
              "      background-color: #434B5C;\n",
              "      box-shadow: 0px 1px 3px 1px rgba(0, 0, 0, 0.15);\n",
              "      filter: drop-shadow(0px 1px 2px rgba(0, 0, 0, 0.3));\n",
              "      fill: #FFFFFF;\n",
              "    }\n",
              "  </style>\n",
              "\n",
              "      <script>\n",
              "        const buttonEl =\n",
              "          document.querySelector('#df-12fa88f4-d964-484d-a3be-ee0abf10df01 button.colab-df-convert');\n",
              "        buttonEl.style.display =\n",
              "          google.colab.kernel.accessAllowed ? 'block' : 'none';\n",
              "\n",
              "        async function convertToInteractive(key) {\n",
              "          const element = document.querySelector('#df-12fa88f4-d964-484d-a3be-ee0abf10df01');\n",
              "          const dataTable =\n",
              "            await google.colab.kernel.invokeFunction('convertToInteractive',\n",
              "                                                     [key], {});\n",
              "          if (!dataTable) return;\n",
              "\n",
              "          const docLinkHtml = 'Like what you see? Visit the ' +\n",
              "            '<a target=\"_blank\" href=https://colab.research.google.com/notebooks/data_table.ipynb>data table notebook</a>'\n",
              "            + ' to learn more about interactive tables.';\n",
              "          element.innerHTML = '';\n",
              "          dataTable['output_type'] = 'display_data';\n",
              "          await google.colab.output.renderOutput(dataTable, element);\n",
              "          const docLink = document.createElement('div');\n",
              "          docLink.innerHTML = docLinkHtml;\n",
              "          element.appendChild(docLink);\n",
              "        }\n",
              "      </script>\n",
              "    </div>\n",
              "  </div>\n",
              "  "
            ]
          },
          "metadata": {},
          "execution_count": 64
        }
      ],
      "source": [
        "df_data.head(3)"
      ]
    },
    {
      "cell_type": "markdown",
      "id": "5fb2f2e4",
      "metadata": {
        "id": "5fb2f2e4"
      },
      "source": [
        "-------------------------------------------------------------------------------------------------------------------------------"
      ]
    },
    {
      "cell_type": "markdown",
      "id": "d19e9bf0",
      "metadata": {
        "id": "d19e9bf0"
      },
      "source": [
        "<div style=\"margin: 10px;\">\n",
        "    <h2 style=\"font-family: Arial\">\n",
        "        <font color=\"#0E1117\">\n",
        "            Data export\n",
        "        </font>\n",
        "    </h2>\n",
        "</div>"
      ]
    },
    {
      "cell_type": "code",
      "execution_count": null,
      "id": "36b2e2c5",
      "metadata": {
        "id": "36b2e2c5"
      },
      "outputs": [],
      "source": [
        "df_data.to_csv(path_or_buf=\"amzn_customer_reviews.csv\", sep=\",\", index=False)"
      ]
    }
  ],
  "metadata": {
    "kernelspec": {
      "display_name": "Python 3 (ipykernel)",
      "language": "python",
      "name": "python3"
    },
    "language_info": {
      "codemirror_mode": {
        "name": "ipython",
        "version": 3
      },
      "file_extension": ".py",
      "mimetype": "text/x-python",
      "name": "python",
      "nbconvert_exporter": "python",
      "pygments_lexer": "ipython3",
      "version": "3.9.7"
    },
    "colab": {
      "provenance": []
    }
  },
  "nbformat": 4,
  "nbformat_minor": 5
}